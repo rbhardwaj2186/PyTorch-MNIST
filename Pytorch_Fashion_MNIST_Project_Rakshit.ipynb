{
  "cells": [
    {
      "cell_type": "markdown",
      "metadata": {
        "id": "view-in-github",
        "colab_type": "text"
      },
      "source": [
        "<a href=\"https://colab.research.google.com/github/rbhardwaj2186/PyTorch-MNIST/blob/main/Pytorch_Fashion_MNIST_Project_Rakshit.ipynb\" target=\"_parent\"><img src=\"https://colab.research.google.com/assets/colab-badge.svg\" alt=\"Open In Colab\"/></a>"
      ]
    },
    {
      "cell_type": "markdown",
      "metadata": {
        "id": "Vl3eIEYFkgP7"
      },
      "source": [
        "<h1 align='center'><b><font color ='indianred'>Complete Example with FMNIST Dataset</b></h1>"
      ]
    },
    {
      "cell_type": "markdown",
      "metadata": {
        "id": "FIxAU6f3S-MI"
      },
      "source": [
        "# <Font color = 'indianred'>**Load Libraries/Install Software**"
      ]
    },
    {
      "cell_type": "code",
      "source": [
        "!pip install torchinfo\n",
        "# Helps print summary of the model"
      ],
      "metadata": {
        "colab": {
          "base_uri": "https://localhost:8080/"
        },
        "id": "Z3y0uboa5kqc",
        "outputId": "8637f525-a508-4ceb-8c0a-60a3ad1ffcac"
      },
      "execution_count": 1,
      "outputs": [
        {
          "output_type": "stream",
          "name": "stdout",
          "text": [
            "Collecting torchinfo\n",
            "  Downloading torchinfo-1.8.0-py3-none-any.whl (23 kB)\n",
            "Installing collected packages: torchinfo\n",
            "Successfully installed torchinfo-1.8.0\n"
          ]
        }
      ]
    },
    {
      "cell_type": "code",
      "execution_count": 2,
      "metadata": {
        "execution": {
          "iopub.execute_input": "2022-09-14T05:14:34.442827Z",
          "iopub.status.busy": "2022-09-14T05:14:34.442427Z",
          "iopub.status.idle": "2022-09-14T05:14:34.450360Z",
          "shell.execute_reply": "2022-09-14T05:14:34.449903Z",
          "shell.execute_reply.started": "2022-09-14T05:14:34.442770Z"
        },
        "id": "-h5a-vtFb738",
        "tags": []
      },
      "outputs": [],
      "source": [
        "# Importing core PyTorch libraries\n",
        "import torch  # Main PyTorch library\n",
        "from torch.utils.data import DataLoader  # For batching data\n",
        "import torch.nn as nn  # Neural networks module\n",
        "\n",
        "# Importing torchvision libraries\n",
        "import torchvision  # Utilities for computer vision tasks\n",
        "from torchvision import datasets, transforms  # Datasets and transformations for computer vision\n",
        "\n",
        "# For file and folder manipulation\n",
        "from pathlib import Path  # Object-oriented filesystem paths\n",
        "\n",
        "# For plotting and visualization\n",
        "import matplotlib.pyplot as plt  # Plotting library\n",
        "import numpy as np  # Numerical Python library for array manipulations\n",
        "\n",
        "# For data analytics\n",
        "from collections import Counter  # Built-in Python library for counting elements\n",
        "\n",
        "# For confusion matrix visualization\n",
        "from sklearn.metrics import confusion_matrix, ConfusionMatrixDisplay  # Scikit-learn utilities for confusion matrix\n",
        "\n",
        "from datetime import datetime\n",
        "\n",
        "from torchinfo import summary"
      ]
    },
    {
      "cell_type": "markdown",
      "source": [
        "# <Font color = 'indianred'>**Specify Project Folder**"
      ],
      "metadata": {
        "id": "GdZCwuBvZP7k"
      }
    },
    {
      "cell_type": "code",
      "execution_count": 3,
      "metadata": {
        "execution": {
          "iopub.execute_input": "2022-10-02T10:36:21.717528Z",
          "iopub.status.busy": "2022-10-02T10:36:21.716436Z",
          "iopub.status.idle": "2022-10-02T10:36:21.744773Z",
          "shell.execute_reply": "2022-10-02T10:36:21.744138Z",
          "shell.execute_reply.started": "2022-10-02T10:36:21.717511Z"
        },
        "id": "dIMn0Z4rjE5_",
        "tags": [],
        "colab": {
          "base_uri": "https://localhost:8080/"
        },
        "outputId": "a00ae2e2-5abf-407d-fa29-31cc53790f17"
      },
      "outputs": [
        {
          "output_type": "stream",
          "name": "stdout",
          "text": [
            "Mounted at /content/drive\n"
          ]
        }
      ],
      "source": [
        "if 'google.colab' in str(get_ipython()):\n",
        "    from google.colab import drive\n",
        "    drive.mount('/content/drive')\n",
        "    base_folder = Path('/content/drive/MyDrive/data') # Project folder\n",
        "else:\n",
        "    base_folder = Path('/content/drive/MyDrive/Rakshit/')\n"
      ]
    },
    {
      "cell_type": "code",
      "execution_count": 4,
      "metadata": {
        "execution": {
          "iopub.execute_input": "2022-10-02T10:36:22.513975Z",
          "iopub.status.busy": "2022-10-02T10:36:22.513801Z",
          "iopub.status.idle": "2022-10-02T10:36:22.537843Z",
          "shell.execute_reply": "2022-10-02T10:36:22.537305Z",
          "shell.execute_reply.started": "2022-10-02T10:36:22.513962Z"
        },
        "id": "Z0yKILuteTDE"
      },
      "outputs": [],
      "source": [
        "# Create specific directories under the base folder for data and models\n",
        "data_folder = base_folder / 'datasets/'\n",
        "model_folder = base_folder / 'dl_2023/fmnist'\n"
      ]
    },
    {
      "cell_type": "code",
      "source": [
        "# Create the model folder directory; if it already exists, do nothing. Also create any necessary parent directories.\n",
        "model_folder.mkdir(exist_ok=True, parents=True)\n"
      ],
      "metadata": {
        "id": "aq36JVF7T-ee"
      },
      "execution_count": 5,
      "outputs": []
    },
    {
      "cell_type": "markdown",
      "metadata": {
        "id": "17xctemopjdA"
      },
      "source": [
        "# <Font color = 'indianred'>**Fashion-MNIST Dataset**\n",
        "\n",
        "Fashion-MNIST dataset consists of images from 10 categories, each represented by 6000 images in the training dataset and by 1000 in the test dataset. Thus, train set contains 60000 images and test set 10000 images.\n",
        "\n",
        "All the images are grayscale with dimensions 28 x 28.\n",
        "\n",
        "Categories present in the dataset: <font color = 'indianred'>**t-shirt, trousers, pullover, dress, coat, sandal, shirt, sneaker, bag, and ankle boot**</font>\n",
        "\n",
        "Let us download the dataset using some built-in functions."
      ]
    },
    {
      "cell_type": "markdown",
      "metadata": {
        "id": "B1VfYqgk9nAD"
      },
      "source": [
        "We will first convert the images in the dataset to pytorch tensors using torchvision.transforms and then normalize them.\n",
        "\n",
        "Next, we will use torchvision.datasets for downloading the Fashion-MNIST datasets and apply transform that we defines earlier.\n",
        "\n",
        "- `trainset` conains the training data\n",
        "- `testset` contains the testing data"
      ]
    },
    {
      "cell_type": "markdown",
      "metadata": {
        "id": "bTrbf15aROgj"
      },
      "source": [
        "## <Font color = 'indianred'>**Train and Test Dataset**\n"
      ]
    },
    {
      "cell_type": "code",
      "execution_count": 6,
      "metadata": {
        "execution": {
          "iopub.execute_input": "2022-09-14T05:14:35.068110Z",
          "iopub.status.busy": "2022-09-14T05:14:35.067972Z",
          "iopub.status.idle": "2022-09-14T05:14:36.024165Z",
          "shell.execute_reply": "2022-09-14T05:14:36.023632Z",
          "shell.execute_reply.started": "2022-09-14T05:14:35.068097Z"
        },
        "id": "fW8R-Djbrd05",
        "tags": []
      },
      "outputs": [],
      "source": [
        "# Define a series of transformations to prepare the data for training and evaluation.\n",
        "\n",
        "# Transform 1: Convert PIL Images or numpy.ndarrays to PyTorch tensors.\n",
        "trans1 = transforms.ToTensor()\n",
        "\n",
        "# Transform 2: Normalize the tensor images.\n",
        "# The specified mean and standard deviation values are dataset-specific.\n",
        "trans2 = transforms.Normalize((0.2857,), (0.3528))\n",
        "\n",
        "\n",
        "# Combine the above transformations into a single composite transform.\n",
        "trans = transforms.Compose([trans1, trans2])"
      ]
    },
    {
      "cell_type": "code",
      "source": [
        "# Download and prepare the FashionMNIST dataset for training and validation.\n",
        "# This will be further divided into training and validation sets.\n",
        "train_val_set = datasets.FashionMNIST(root=data_folder,\n",
        "                                      train=True,\n",
        "                                      transform=trans,\n",
        "                                      download=True)\n",
        "\n",
        "# Download and prepare the FashionMNIST dataset for testing.\n",
        "# The same transformations are applied as for the training/validation data.\n",
        "testset = datasets.FashionMNIST(root=data_folder,\n",
        "                                 train=False, # test set train is false\n",
        "                                 transform=trans,\n",
        "                                 download=True)\n"
      ],
      "metadata": {
        "id": "LA0ry5THObLs",
        "colab": {
          "base_uri": "https://localhost:8080/"
        },
        "outputId": "099c86b3-cdcd-4674-e7ff-7f200ea6844e"
      },
      "execution_count": 7,
      "outputs": [
        {
          "output_type": "stream",
          "name": "stdout",
          "text": [
            "Downloading http://fashion-mnist.s3-website.eu-central-1.amazonaws.com/train-images-idx3-ubyte.gz\n",
            "Downloading http://fashion-mnist.s3-website.eu-central-1.amazonaws.com/train-images-idx3-ubyte.gz to /content/drive/MyDrive/data/datasets/FashionMNIST/raw/train-images-idx3-ubyte.gz\n"
          ]
        },
        {
          "output_type": "stream",
          "name": "stderr",
          "text": [
            "100%|██████████| 26421880/26421880 [00:02<00:00, 10340096.14it/s]\n"
          ]
        },
        {
          "output_type": "stream",
          "name": "stdout",
          "text": [
            "Extracting /content/drive/MyDrive/data/datasets/FashionMNIST/raw/train-images-idx3-ubyte.gz to /content/drive/MyDrive/data/datasets/FashionMNIST/raw\n",
            "\n",
            "Downloading http://fashion-mnist.s3-website.eu-central-1.amazonaws.com/train-labels-idx1-ubyte.gz\n",
            "Downloading http://fashion-mnist.s3-website.eu-central-1.amazonaws.com/train-labels-idx1-ubyte.gz to /content/drive/MyDrive/data/datasets/FashionMNIST/raw/train-labels-idx1-ubyte.gz\n"
          ]
        },
        {
          "output_type": "stream",
          "name": "stderr",
          "text": [
            "100%|██████████| 29515/29515 [00:00<00:00, 177662.00it/s]\n"
          ]
        },
        {
          "output_type": "stream",
          "name": "stdout",
          "text": [
            "Extracting /content/drive/MyDrive/data/datasets/FashionMNIST/raw/train-labels-idx1-ubyte.gz to /content/drive/MyDrive/data/datasets/FashionMNIST/raw\n",
            "\n",
            "Downloading http://fashion-mnist.s3-website.eu-central-1.amazonaws.com/t10k-images-idx3-ubyte.gz\n",
            "Downloading http://fashion-mnist.s3-website.eu-central-1.amazonaws.com/t10k-images-idx3-ubyte.gz to /content/drive/MyDrive/data/datasets/FashionMNIST/raw/t10k-images-idx3-ubyte.gz\n"
          ]
        },
        {
          "output_type": "stream",
          "name": "stderr",
          "text": [
            "100%|██████████| 4422102/4422102 [00:01<00:00, 3271954.50it/s]\n"
          ]
        },
        {
          "output_type": "stream",
          "name": "stdout",
          "text": [
            "Extracting /content/drive/MyDrive/data/datasets/FashionMNIST/raw/t10k-images-idx3-ubyte.gz to /content/drive/MyDrive/data/datasets/FashionMNIST/raw\n",
            "\n",
            "Downloading http://fashion-mnist.s3-website.eu-central-1.amazonaws.com/t10k-labels-idx1-ubyte.gz\n",
            "Downloading http://fashion-mnist.s3-website.eu-central-1.amazonaws.com/t10k-labels-idx1-ubyte.gz to /content/drive/MyDrive/data/datasets/FashionMNIST/raw/t10k-labels-idx1-ubyte.gz\n"
          ]
        },
        {
          "output_type": "stream",
          "name": "stderr",
          "text": [
            "100%|██████████| 5148/5148 [00:00<00:00, 6609206.30it/s]"
          ]
        },
        {
          "output_type": "stream",
          "name": "stdout",
          "text": [
            "Extracting /content/drive/MyDrive/data/datasets/FashionMNIST/raw/t10k-labels-idx1-ubyte.gz to /content/drive/MyDrive/data/datasets/FashionMNIST/raw\n",
            "\n"
          ]
        },
        {
          "output_type": "stream",
          "name": "stderr",
          "text": [
            "\n"
          ]
        }
      ]
    },
    {
      "cell_type": "code",
      "execution_count": 8,
      "metadata": {
        "id": "sQlT7mxxJpro",
        "colab": {
          "base_uri": "https://localhost:8080/"
        },
        "outputId": "6e35edbe-1d02-44c6-8a99-176d6f90c965"
      },
      "outputs": [
        {
          "output_type": "execute_result",
          "data": {
            "text/plain": [
              "60000"
            ]
          },
          "metadata": {},
          "execution_count": 8
        }
      ],
      "source": [
        "len(train_val_set)"
      ]
    },
    {
      "cell_type": "code",
      "execution_count": 9,
      "metadata": {
        "id": "W5k1S393JrjI",
        "colab": {
          "base_uri": "https://localhost:8080/"
        },
        "outputId": "4dbfd45a-1d86-4663-b92f-0213cf74ff2a"
      },
      "outputs": [
        {
          "output_type": "execute_result",
          "data": {
            "text/plain": [
              "10000"
            ]
          },
          "metadata": {},
          "execution_count": 9
        }
      ],
      "source": [
        "len(testset)"
      ]
    },
    {
      "cell_type": "markdown",
      "metadata": {
        "id": "N_ICobccV--y"
      },
      "source": [
        "## <Font color = 'indianred'>**Split train set to train/validation set**"
      ]
    },
    {
      "cell_type": "code",
      "execution_count": 10,
      "metadata": {
        "execution": {
          "iopub.execute_input": "2022-09-14T05:14:36.025050Z",
          "iopub.status.busy": "2022-09-14T05:14:36.024871Z",
          "iopub.status.idle": "2022-09-14T05:14:36.028441Z",
          "shell.execute_reply": "2022-09-14T05:14:36.028066Z",
          "shell.execute_reply.started": "2022-09-14T05:14:36.025033Z"
        },
        "id": "mm5_iI3sjdwB",
        "tags": []
      },
      "outputs": [],
      "source": [
        "def split_dataset(base_dataset, fraction, seed):\n",
        "    \"\"\"\n",
        "    Split a PyTorch dataset into two subsets based on a specified fraction.\n",
        "\n",
        "    Args:\n",
        "        base_dataset (torch.utils.data.Dataset): The original dataset to be split.\n",
        "        fraction (float): The fraction of the dataset to be included in the first split.\n",
        "        seed (int): The seed value for randomization to ensure reproducibility.\n",
        "\n",
        "    Returns:\n",
        "        list of torch.utils.data.Dataset: A list containing two datasets, the first one with a size based on the fraction,\n",
        "                                           and the second one with the remaining elements.\n",
        "    \"\"\"\n",
        "    # Calculate the size of the first split based on the provided fraction\n",
        "    split_a_size = int(fraction * len(base_dataset))\n",
        "\n",
        "    # Calculate the size of the second split as the remaining elements\n",
        "    split_b_size = len(base_dataset) - split_a_size\n",
        "\n",
        "    # Perform the dataset splitting using random indices\n",
        "    # Seed the random generator for reproducibility\n",
        "    return torch.utils.data.random_split(base_dataset,\n",
        "        [split_a_size, split_b_size],\n",
        "        generator=torch.Generator().manual_seed(seed)\n",
        "    )\n",
        "\n"
      ]
    },
    {
      "cell_type": "markdown",
      "source": [
        "The function `split_dataset` is designed to take a PyTorch dataset (`base_dataset`), a fraction (`fraction`), and a seed value (`seed`) as inputs. It then returns two subsets of the dataset: one containing a fraction (`fraction`) of the original dataset and the other containing the remaining data.\n",
        "\n",
        "Here's a step-by-step explanation of the code:\n",
        "\n",
        "1. `split_a_size = int(fraction * len(base_dataset))`: This line calculates the size of the first split based on the provided fraction and the total length of the dataset. It multiplies the dataset size (`len(base_dataset)`) with the given fraction and rounds down to the nearest integer.\n",
        "\n",
        "2. `split_b_size = len(base_dataset) - split_a_size`: This line calculates the size of the second split. It takes the total dataset size and subtracts the size of the first split, thus getting the remaining elements for the second split.\n",
        "\n",
        "3. `torch.utils.data.random_split(...)`: This function is used to randomly split a dataset into non-overlapping new datasets of given lengths. The lengths are `[split_a_size, split_b_size]` in this case.\n",
        "\n",
        "4. `generator=torch.Generator().manual_seed(seed)`: The generator parameter sets a random seed for reproducibility. This ensures that if you run the code multiple times, you will get the same random splits, which is useful for consistent evaluation and comparison.\n",
        "\n",
        "So, calling `split_dataset(base_dataset, 0.8, 42)` would split `base_dataset` into two parts: the first containing 80% of the data and the second containing the remaining 20%, with the split being reproducible due to the specified seed value."
      ],
      "metadata": {
        "id": "NMzVBwelOwrn"
      }
    },
    {
      "cell_type": "code",
      "execution_count": 11,
      "metadata": {
        "execution": {
          "iopub.execute_input": "2022-09-14T05:14:36.029462Z",
          "iopub.status.busy": "2022-09-14T05:14:36.029085Z",
          "iopub.status.idle": "2022-09-14T05:14:36.035788Z",
          "shell.execute_reply": "2022-09-14T05:14:36.035128Z",
          "shell.execute_reply.started": "2022-09-14T05:14:36.029445Z"
        },
        "id": "8X5iQ2zpkcV1",
        "tags": []
      },
      "outputs": [],
      "source": [
        "# Split the combined training and validation set into separate training and validation sets.\n",
        "# Assign 80% of the data to the training set and the remaining 20% to the validation set.\n",
        "# Use a seed value of 42 for reproducibility.\n",
        "trainset, validset = split_dataset(train_val_set, 0.8, 42)\n"
      ]
    },
    {
      "cell_type": "code",
      "execution_count": 12,
      "metadata": {
        "id": "rEalB7m9gIv4",
        "colab": {
          "base_uri": "https://localhost:8080/"
        },
        "outputId": "4d62b1e7-107a-4701-90c9-ca2ad6bd483d"
      },
      "outputs": [
        {
          "output_type": "stream",
          "name": "stdout",
          "text": [
            "torch.Size([48000, 28, 28])\n",
            "tensor(0.2857)\n",
            "tensor(0.3528)\n"
          ]
        }
      ],
      "source": [
        "# Normalize the training data manually by dividing pixel values by 255.\n",
        "# This is necessary because the transforms are not yet applied to the dataset.\n",
        "# The data is in numpy array format with shape (number of images, Height, Width, Channels).\n",
        "\n",
        "train_data = train_val_set.data[trainset.indices] / 255\n",
        "\n",
        "# Display the shape of the normalized training data.\n",
        "print(train_data.shape)\n",
        "\n",
        "# Calculate and display the mean of the pixel values across all dimensions\n",
        "# (i.e., across all images, and all Height and Width dimensions).\n",
        "# This confirms the mean value used in previous normalization steps.\n",
        "print(train_data.mean(axis = (0, 1, 2))) # mean pixel value across all images\n",
        "\n",
        "# Similarly, calculate and display the standard deviation of the pixel values.\n",
        "# This confirms the standard deviation value used in previous normalization steps.\n",
        "print(train_data.std(axis = (0, 1, 2)))\n"
      ]
    },
    {
      "cell_type": "markdown",
      "metadata": {
        "id": "D0ipdb9rXovr"
      },
      "source": [
        "## <Font color = 'indianred'>**Check inputs**"
      ]
    },
    {
      "cell_type": "code",
      "execution_count": 13,
      "metadata": {
        "execution": {
          "iopub.execute_input": "2022-09-14T05:14:36.036904Z",
          "iopub.status.busy": "2022-09-14T05:14:36.036545Z",
          "iopub.status.idle": "2022-09-14T05:14:36.040199Z",
          "shell.execute_reply": "2022-09-14T05:14:36.039710Z",
          "shell.execute_reply.started": "2022-09-14T05:14:36.036885Z"
        },
        "id": "SEafSvdbxaUW",
        "tags": [],
        "colab": {
          "base_uri": "https://localhost:8080/"
        },
        "outputId": "310679f3-7f56-4e31-ec04-d3e650290f0d"
      },
      "outputs": [
        {
          "output_type": "stream",
          "name": "stdout",
          "text": [
            "<class 'torch.utils.data.dataset.Subset'>\n",
            "<class 'torchvision.datasets.mnist.FashionMNIST'>\n",
            "<class 'list'>\n"
          ]
        }
      ],
      "source": [
        "# Print the types of the following:\n",
        "# 1) `trainset`, which is a Subset object containing training samples.\n",
        "# 2) `trainset.dataset`, which is the original dataset from which the Subset is derived.\n",
        "# 3) `trainset.indices`, which are the indices of the samples included in the training Subset.\n",
        "# The output is displayed line by line for better readability.\n",
        "print(type(trainset), type(trainset.dataset), type(trainset.indices), sep='\\n')\n"
      ]
    },
    {
      "cell_type": "code",
      "execution_count": 14,
      "metadata": {
        "execution": {
          "iopub.execute_input": "2022-09-14T05:14:36.041033Z",
          "iopub.status.busy": "2022-09-14T05:14:36.040818Z",
          "iopub.status.idle": "2022-09-14T05:14:36.049587Z",
          "shell.execute_reply": "2022-09-14T05:14:36.049140Z",
          "shell.execute_reply.started": "2022-09-14T05:14:36.041016Z"
        },
        "id": "vugZuVfwvoeT",
        "tags": [],
        "colab": {
          "base_uri": "https://localhost:8080/"
        },
        "outputId": "ac0cc379-a9cb-4da1-922c-3e757e79aa92"
      },
      "outputs": [
        {
          "output_type": "execute_result",
          "data": {
            "text/plain": [
              "[37542, 43087, 2992, 25810, 39634]"
            ]
          },
          "metadata": {},
          "execution_count": 14
        }
      ],
      "source": [
        "# Display the first 5 indices of the 'trainset' Subset.\n",
        "# These indices point to the samples from the original dataset that are included in the training subset.\n",
        "trainset.indices[0:5]\n"
      ]
    },
    {
      "cell_type": "code",
      "execution_count": 15,
      "metadata": {
        "execution": {
          "iopub.execute_input": "2022-09-14T05:14:36.050575Z",
          "iopub.status.busy": "2022-09-14T05:14:36.050231Z",
          "iopub.status.idle": "2022-09-14T05:14:36.053490Z",
          "shell.execute_reply": "2022-09-14T05:14:36.053063Z",
          "shell.execute_reply.started": "2022-09-14T05:14:36.050556Z"
        },
        "id": "wGXxzrChyQYp",
        "tags": [],
        "colab": {
          "base_uri": "https://localhost:8080/"
        },
        "outputId": "c445f50b-1048-4861-f1d5-917db25c8427"
      },
      "outputs": [
        {
          "output_type": "stream",
          "name": "stdout",
          "text": [
            "48000\n",
            "60000\n",
            "48000\n"
          ]
        }
      ],
      "source": [
        "# Print the lengths of the following:\n",
        "# 1) `trainset`, which indicates the number of samples in the training subset.\n",
        "# 2) `trainset.dataset`, which indicates the total number of samples in the original dataset.\n",
        "# 3) `trainset.indices`, which indicates the number of indices pointing to samples in the training subset.\n",
        "# Each length is printed on a new line for better readability.\n",
        "print(len(trainset), len(trainset.dataset), len(trainset.indices), sep='\\n')\n"
      ]
    },
    {
      "cell_type": "code",
      "execution_count": 16,
      "metadata": {
        "execution": {
          "iopub.execute_input": "2022-09-14T05:14:36.056501Z",
          "iopub.status.busy": "2022-09-14T05:14:36.056248Z",
          "iopub.status.idle": "2022-09-14T05:14:36.060827Z",
          "shell.execute_reply": "2022-09-14T05:14:36.060322Z",
          "shell.execute_reply.started": "2022-09-14T05:14:36.056482Z"
        },
        "id": "w1Zov4McmuN-",
        "tags": [],
        "colab": {
          "base_uri": "https://localhost:8080/"
        },
        "outputId": "5d28f47f-c211-4068-e4ce-f1e5f8a7f845"
      },
      "outputs": [
        {
          "output_type": "execute_result",
          "data": {
            "text/plain": [
              "(48000, 12000)"
            ]
          },
          "metadata": {},
          "execution_count": 16
        }
      ],
      "source": [
        "# Display the number of samples in the training and validation subsets.\n",
        "# 1) `len(trainset.indices)` gives the number of samples in the training subset.\n",
        "# 2) `len(validset.indices)` gives the number of samples in the validation subset.\n",
        "len(trainset.indices), len(validset.indices)\n"
      ]
    },
    {
      "cell_type": "code",
      "execution_count": 17,
      "metadata": {
        "execution": {
          "iopub.execute_input": "2022-09-14T05:14:36.061697Z",
          "iopub.status.busy": "2022-09-14T05:14:36.061470Z",
          "iopub.status.idle": "2022-09-14T05:14:36.114889Z",
          "shell.execute_reply": "2022-09-14T05:14:36.114421Z",
          "shell.execute_reply.started": "2022-09-14T05:14:36.061679Z"
        },
        "id": "Ci1h1FlYvMaa",
        "tags": [],
        "colab": {
          "base_uri": "https://localhost:8080/"
        },
        "outputId": "dc9447cf-1df0-439d-ad0b-3c58c818a9da"
      },
      "outputs": [
        {
          "output_type": "stream",
          "name": "stdout",
          "text": [
            "torch.Size([48000, 28, 28])\n",
            "torch.Size([48000, 28, 28])\n"
          ]
        }
      ],
      "source": [
        "# Display the shape of the training data tensors accessed in two ways:\n",
        "# 1) `train_val_set.data[trainset.indices].shape` gives the shape of the training data using original dataset and Subset indices.\n",
        "# 2) `trainset.dataset.data[trainset.indices].shape` also gives the shape of the training data, accessed via the Subset object.\n",
        "print(train_val_set.data[trainset.indices].shape)\n",
        "print(trainset.dataset.data[trainset.indices].shape)\n"
      ]
    },
    {
      "cell_type": "code",
      "execution_count": 18,
      "metadata": {
        "execution": {
          "iopub.execute_input": "2022-09-14T05:14:36.115795Z",
          "iopub.status.busy": "2022-09-14T05:14:36.115565Z",
          "iopub.status.idle": "2022-09-14T05:14:36.124832Z",
          "shell.execute_reply": "2022-09-14T05:14:36.124354Z",
          "shell.execute_reply.started": "2022-09-14T05:14:36.115777Z"
        },
        "id": "f1MpLXsTvdSo",
        "tags": [],
        "colab": {
          "base_uri": "https://localhost:8080/"
        },
        "outputId": "ddc2ec63-1150-48d4-af76-bb762ac7802f"
      },
      "outputs": [
        {
          "output_type": "execute_result",
          "data": {
            "text/plain": [
              "torch.Size([12000, 28, 28])"
            ]
          },
          "metadata": {},
          "execution_count": 18
        }
      ],
      "source": [
        "# Display the shape of the validation data tensor.\n",
        "# This is accessed using the original dataset object (`train_val_set`) and the indices from the validation subset (`validset.indices`).\n",
        "train_val_set.data[validset.indices].shape\n"
      ]
    },
    {
      "cell_type": "code",
      "execution_count": 19,
      "metadata": {
        "execution": {
          "iopub.execute_input": "2022-09-14T05:14:36.125736Z",
          "iopub.status.busy": "2022-09-14T05:14:36.125534Z",
          "iopub.status.idle": "2022-09-14T05:14:36.129432Z",
          "shell.execute_reply": "2022-09-14T05:14:36.128588Z",
          "shell.execute_reply.started": "2022-09-14T05:14:36.125720Z"
        },
        "id": "JmgUaxgu_RqQ",
        "tags": [],
        "colab": {
          "base_uri": "https://localhost:8080/"
        },
        "outputId": "9e3de2bb-e126-4286-97a7-c557d258175e"
      },
      "outputs": [
        {
          "output_type": "execute_result",
          "data": {
            "text/plain": [
              "torch.Size([10000, 28, 28])"
            ]
          },
          "metadata": {},
          "execution_count": 19
        }
      ],
      "source": [
        "# Display the shape of the testing data tensor.\n",
        "# This is accessed directly from the 'testset' object.\n",
        "testset.data.shape\n"
      ]
    },
    {
      "cell_type": "code",
      "execution_count": 20,
      "metadata": {
        "execution": {
          "iopub.execute_input": "2022-09-14T05:14:36.130409Z",
          "iopub.status.busy": "2022-09-14T05:14:36.130107Z",
          "iopub.status.idle": "2022-09-14T05:14:36.221363Z",
          "shell.execute_reply": "2022-09-14T05:14:36.220707Z",
          "shell.execute_reply.started": "2022-09-14T05:14:36.130392Z"
        },
        "id": "OS5QMGxmlqE-",
        "tags": [],
        "colab": {
          "base_uri": "https://localhost:8080/"
        },
        "outputId": "56ce8c03-7de1-428d-bc0d-0d4aa7e60687"
      },
      "outputs": [
        {
          "output_type": "execute_result",
          "data": {
            "text/plain": [
              "tensor(255, dtype=torch.uint8)"
            ]
          },
          "metadata": {},
          "execution_count": 20
        }
      ],
      "source": [
        "# Query the maximum value within the training data tensor from the Subset 'trainset'.\n",
        "# This check is important to confirm that transformations, such as normalization, have not yet been applied.\n",
        "# Transformations will be applied batch-wise during iterations over the DataLoader.\n",
        "train_val_set.data[trainset.indices].max() # 255 value indicates still not applied transformation\n"
      ]
    },
    {
      "cell_type": "code",
      "execution_count": 21,
      "metadata": {
        "execution": {
          "iopub.execute_input": "2022-09-14T05:14:36.222265Z",
          "iopub.status.busy": "2022-09-14T05:14:36.222043Z",
          "iopub.status.idle": "2022-09-14T05:14:36.330539Z",
          "shell.execute_reply": "2022-09-14T05:14:36.330107Z",
          "shell.execute_reply.started": "2022-09-14T05:14:36.222248Z"
        },
        "id": "Gs5yKgGumIwN",
        "tags": [],
        "colab": {
          "base_uri": "https://localhost:8080/"
        },
        "outputId": "50396faf-a40a-43c6-b9b8-dcbe264f1bcc"
      },
      "outputs": [
        {
          "output_type": "execute_result",
          "data": {
            "text/plain": [
              "tensor(0, dtype=torch.uint8)"
            ]
          },
          "metadata": {},
          "execution_count": 21
        }
      ],
      "source": [
        "# Query the minimum value within the training data tensor from the Subset 'trainset'.\n",
        "# Similar to checking the maximum value, this confirms that data transformations like normalization have not yet been applied.\n",
        "# These transformations will occur later, batch-wise, during DataLoader iteration.\n",
        "train_val_set.data[trainset.indices].min()\n"
      ]
    },
    {
      "cell_type": "markdown",
      "metadata": {
        "id": "T-JCMTUfX5vp"
      },
      "source": [
        "## <Font color = 'indianred'>**Check Labels**"
      ]
    },
    {
      "cell_type": "code",
      "execution_count": 22,
      "metadata": {
        "execution": {
          "iopub.execute_input": "2022-09-14T05:14:36.840824Z",
          "iopub.status.busy": "2022-09-14T05:14:36.840688Z",
          "iopub.status.idle": "2022-09-14T05:14:36.847830Z",
          "shell.execute_reply": "2022-09-14T05:14:36.847310Z",
          "shell.execute_reply.started": "2022-09-14T05:14:36.840811Z"
        },
        "id": "_W3Xmg7zXQAE",
        "tags": [],
        "colab": {
          "base_uri": "https://localhost:8080/"
        },
        "outputId": "704d0c76-d2b2-46ba-d4fe-4a673ff1fcd2"
      },
      "outputs": [
        {
          "output_type": "execute_result",
          "data": {
            "text/plain": [
              "torch.Size([48000])"
            ]
          },
          "metadata": {},
          "execution_count": 22
        }
      ],
      "source": [
        "# Query the shape of the target labels tensor for the training subset 'trainset'.\n",
        "# This provides information on the number of labels and helps in confirming that the subset has been properly sliced.\n",
        "train_val_set.targets[trainset.indices].shape\n"
      ]
    },
    {
      "cell_type": "code",
      "execution_count": 23,
      "metadata": {
        "execution": {
          "iopub.execute_input": "2022-09-14T05:14:36.848648Z",
          "iopub.status.busy": "2022-09-14T05:14:36.848466Z",
          "iopub.status.idle": "2022-09-14T05:14:36.854609Z",
          "shell.execute_reply": "2022-09-14T05:14:36.854119Z",
          "shell.execute_reply.started": "2022-09-14T05:14:36.848631Z"
        },
        "id": "rRsK8ZYMXR38",
        "tags": [],
        "colab": {
          "base_uri": "https://localhost:8080/"
        },
        "outputId": "7b0e42df-d4d0-437b-a978-0f2f1f0c1a98"
      },
      "outputs": [
        {
          "output_type": "execute_result",
          "data": {
            "text/plain": [
              "tensor([0, 1, 2, 3, 4, 5, 6, 7, 8, 9])"
            ]
          },
          "metadata": {},
          "execution_count": 23
        }
      ],
      "source": [
        "# Retrieve the unique target labels present in the training subset 'trainset'.\n",
        "# This check is useful for verifying that the subset contains all the classes.\n",
        "train_val_set.targets[trainset.indices].unique()\n"
      ]
    },
    {
      "cell_type": "code",
      "execution_count": 24,
      "metadata": {
        "execution": {
          "iopub.execute_input": "2022-09-14T05:14:36.855633Z",
          "iopub.status.busy": "2022-09-14T05:14:36.855208Z",
          "iopub.status.idle": "2022-09-14T05:14:36.859466Z",
          "shell.execute_reply": "2022-09-14T05:14:36.859059Z",
          "shell.execute_reply.started": "2022-09-14T05:14:36.855616Z"
        },
        "id": "f36Yu2AcwjG-",
        "tags": [],
        "colab": {
          "base_uri": "https://localhost:8080/"
        },
        "outputId": "95e405d7-c1b8-45d9-ba9d-dd5366e17a1a"
      },
      "outputs": [
        {
          "output_type": "execute_result",
          "data": {
            "text/plain": [
              "tensor([0, 1, 2, 3, 4, 5, 6, 7, 8, 9])"
            ]
          },
          "metadata": {},
          "execution_count": 24
        }
      ],
      "source": [
        "# Retrieve the unique target labels present in the validation subset 'validset'.\n",
        "# This check ensures that the validation set also contains all the classes.\n",
        "train_val_set.targets[validset.indices].unique()\n"
      ]
    },
    {
      "cell_type": "code",
      "execution_count": 25,
      "metadata": {
        "execution": {
          "iopub.execute_input": "2022-09-14T05:14:36.860360Z",
          "iopub.status.busy": "2022-09-14T05:14:36.860032Z",
          "iopub.status.idle": "2022-09-14T05:14:36.864255Z",
          "shell.execute_reply": "2022-09-14T05:14:36.863842Z",
          "shell.execute_reply.started": "2022-09-14T05:14:36.860345Z"
        },
        "id": "t-axZSrQwlMk",
        "tags": [],
        "colab": {
          "base_uri": "https://localhost:8080/"
        },
        "outputId": "8ec1155d-6317-44bb-e532-ed0799897c19"
      },
      "outputs": [
        {
          "output_type": "execute_result",
          "data": {
            "text/plain": [
              "tensor([0, 1, 2, 3, 4, 5, 6, 7, 8, 9])"
            ]
          },
          "metadata": {},
          "execution_count": 25
        }
      ],
      "source": [
        "# Retrieve the unique target labels present in the test dataset 'testset'.\n",
        "# This is to ensure that the test set also contains all classes.\n",
        "testset.targets.unique()\n"
      ]
    },
    {
      "cell_type": "markdown",
      "metadata": {
        "id": "ANUboopnOCZw"
      },
      "source": [
        "# <Font color = 'indianred'>**Create Data Loader**"
      ]
    },
    {
      "cell_type": "code",
      "execution_count": 26,
      "metadata": {
        "id": "DBHNBLw8OK1x"
      },
      "outputs": [],
      "source": [
        "from torch.utils.data import DataLoader\n",
        "\n",
        "# Create a DataLoader for the training set, with a batch size of 256 and shuffling enabled.\n",
        "# Shuffling helps in introducing randomness during training, improving model generalization.\n",
        "train_loader = DataLoader(trainset, batch_size = 256, shuffle=True)\n",
        "\n",
        "# Create a DataLoader for the validation set, with a batch size of 256 and shuffling disabled.\n",
        "# Shuffling is usually not necessary for validation and test sets.\n",
        "valid_loader = DataLoader(trainset, batch_size = 256, shuffle=False) # validation set shuffle be false\n",
        "\n",
        "# Create a DataLoader for the test set, with a batch size of 256 and shuffling disabled.\n",
        "# Similar to validation, shuffling is generally not required for the test set.\n",
        "test_loader = DataLoader(testset, batch_size = 256, shuffle=False) # test set shuffle be false\n"
      ]
    },
    {
      "cell_type": "code",
      "execution_count": 27,
      "metadata": {
        "id": "STFtq0toOZNb"
      },
      "outputs": [],
      "source": [
        "# Define a function to check the distribution of labels in a DataLoader.\n",
        "# This function is useful for verifying that the data is balanced across classes.\n",
        "\n",
        "def check_label_dist(loader):\n",
        "    \"\"\"\n",
        "    Check and display the distribution of labels in a DataLoader.\n",
        "\n",
        "    Args:\n",
        "        loader (torch.utils.data.DataLoader): The DataLoader containing batches of data.\n",
        "\n",
        "    Returns:\n",
        "        None\n",
        "    \"\"\"\n",
        "    # Initialize a Counter object to store the counts of each label.\n",
        "    label_counter = Counter() # count occurences of a thing\n",
        "\n",
        "    # Loop through batches of data from the DataLoader.\n",
        "    for images, labels in loader:\n",
        "        # Update the label counter with the list of labels from the current batch.\n",
        "        label_counter.update(labels.tolist())\n",
        "\n",
        "    # Print the sorted distribution of labels.\n",
        "    print(\"\\n Label distribution:\")\n",
        "    print(sorted(label_counter.items()))\n"
      ]
    },
    {
      "cell_type": "code",
      "execution_count": 28,
      "metadata": {
        "id": "PnJYHBydPMuR",
        "colab": {
          "base_uri": "https://localhost:8080/"
        },
        "outputId": "a09f0ae9-ca15-41ec-d9ae-3ba28314212a"
      },
      "outputs": [
        {
          "output_type": "stream",
          "name": "stdout",
          "text": [
            "\n",
            " Label distribution:\n",
            "[(0, 4732), (1, 4752), (2, 4825), (3, 4852), (4, 4807), (5, 4797), (6, 4788), (7, 4866), (8, 4805), (9, 4776)]\n"
          ]
        }
      ],
      "source": [
        "# Invoke the function to check and display the label distribution in the training DataLoader.\n",
        "check_label_dist(train_loader)\n"
      ]
    },
    {
      "cell_type": "code",
      "execution_count": 29,
      "metadata": {
        "id": "nreFtFMJPVIR",
        "colab": {
          "base_uri": "https://localhost:8080/"
        },
        "outputId": "8f17fe40-af7f-4462-96ed-563d692c0cb2"
      },
      "outputs": [
        {
          "output_type": "stream",
          "name": "stdout",
          "text": [
            "\n",
            " Label distribution:\n",
            "[(0, 4732), (1, 4752), (2, 4825), (3, 4852), (4, 4807), (5, 4797), (6, 4788), (7, 4866), (8, 4805), (9, 4776)]\n"
          ]
        }
      ],
      "source": [
        "# Invoke the function to check and display the label distribution in the validation DataLoader.\n",
        "check_label_dist(valid_loader)\n"
      ]
    },
    {
      "cell_type": "code",
      "execution_count": 30,
      "metadata": {
        "id": "Bq0NAtuTPXXh",
        "colab": {
          "base_uri": "https://localhost:8080/"
        },
        "outputId": "2de54ee5-4243-48bc-84cb-1e04bb93cf72"
      },
      "outputs": [
        {
          "output_type": "stream",
          "name": "stdout",
          "text": [
            "\n",
            " Label distribution:\n",
            "[(0, 1000), (1, 1000), (2, 1000), (3, 1000), (4, 1000), (5, 1000), (6, 1000), (7, 1000), (8, 1000), (9, 1000)]\n"
          ]
        }
      ],
      "source": [
        "# Invoke the function to check and display the label distribution in the test DataLoader.\n",
        "check_label_dist(test_loader)\n"
      ]
    },
    {
      "cell_type": "markdown",
      "metadata": {
        "id": "U5PslDp5R7Ff"
      },
      "source": [
        "# <Font color = 'indianred'>**Check Transformations**\n",
        "\n",
        "- Check if transformation are working correctly.\n",
        "- The transformations are applied at the time of calling dataloader"
      ]
    },
    {
      "cell_type": "code",
      "execution_count": 31,
      "metadata": {
        "execution": {
          "iopub.execute_input": "2022-09-14T05:14:36.878229Z",
          "iopub.status.busy": "2022-09-14T05:14:36.877896Z",
          "iopub.status.idle": "2022-09-14T05:14:36.929897Z",
          "shell.execute_reply": "2022-09-14T05:14:36.929441Z",
          "shell.execute_reply.started": "2022-09-14T05:14:36.878212Z"
        },
        "id": "JGIeEEzEjRlP",
        "colab": {
          "base_uri": "https://localhost:8080/"
        },
        "outputId": "08070bbe-5561-4997-e8e2-9c9ed5fe44ba"
      },
      "outputs": [
        {
          "output_type": "stream",
          "name": "stdout",
          "text": [
            "shape of inputs is :torch.Size([256, 1, 28, 28])\n",
            "\n",
            "max input value  :2.0246598720550537\n",
            "\n",
            "min input value  :-0.8098071813583374\n",
            "\n",
            "mean input value  :-0.019064055755734444\n",
            "\n",
            "std input value  :0.9976670145988464\n",
            "\n",
            "shape of targets is :torch.Size([256])\n",
            "\n",
            "inputs  :tensor([[-0.8098, -0.8098, -0.8098, -0.8098, -0.8098],\n",
            "        [-0.8098, -0.8098, -0.8098, -0.8098, -0.8098],\n",
            "        [-0.8098, -0.8098, -0.8098, -0.8098, -0.8098],\n",
            "        [-0.8098, -0.8098, -0.8098, -0.8098, -0.7653],\n",
            "        [-0.8098, -0.8098, -0.8098, -0.8098, -0.8098]])\n"
          ]
        }
      ],
      "source": [
        "# check imputs and outputs\n",
        "for input, target in train_loader:\n",
        "  print(f'shape of inputs is :{input.shape}')\n",
        "  print(f'\\nmax input value  :{input.max()}')\n",
        "  print(f'\\nmin input value  :{input.min()}')\n",
        "  print(f'\\nmean input value  :{input.mean()}')\n",
        "  print(f'\\nstd input value  :{input.std()}')\n",
        "  print(f'\\nshape of targets is :{target.shape}')\n",
        "  print(f'\\ninputs  :{input[0, 0, 5:10, 5:10]}')\n",
        "\n",
        "  break"
      ]
    },
    {
      "cell_type": "markdown",
      "metadata": {
        "id": "04zmdTe-EDeB"
      },
      "source": [
        "# <Font color = 'indianred'>**Visualize the Data**"
      ]
    },
    {
      "cell_type": "code",
      "source": [
        "# Define a function to display a grid of images.\n",
        "def show_images(images, rows=10, figsize=(10, 10)):\n",
        "    \"\"\"\n",
        "    Creates and displays a grid of images using matplotlib.\n",
        "\n",
        "    Parameters:\n",
        "    - images (torch.Tensor): The images to display in grid format.\n",
        "    - rows (int): Number of rows in the grid.\n",
        "    - figsize (tuple): Dimensions of the figure for plotting.\n",
        "\n",
        "    \"\"\"\n",
        "    # Create the grid using torchvision's make_grid utility.\n",
        "    img_grid = torchvision.utils.make_grid(images,\n",
        "                                           nrow=rows,      # Number of rows for the grid layout\n",
        "                                           padding=1,      # Padding between images\n",
        "                                           pad_value=255)  # Value used for padding\n",
        "\n",
        "    # Plotting the grid of images.\n",
        "    plt.figure(figsize=figsize)\n",
        "    plt.axis(\"off\")  # Turn off axis\n",
        "    plt.imshow(np.transpose(img_grid, (1, 2, 0)))  # Transpose tensor dimensions for display\n",
        "    plt.show()  # Display the figure\n"
      ],
      "metadata": {
        "id": "crmjrSIOK9qH"
      },
      "execution_count": 32,
      "outputs": []
    },
    {
      "cell_type": "code",
      "source": [
        "# Generate random indices to select a subset of 50 images from the training set.\n",
        "# samples = torch.randint(0, len(train_val_set), (50,))\n",
        "samples = torch.randperm(len(train_val_set))[:50]\n",
        "\n",
        "# Use the generated indices to select images.\n",
        "# Stack the selected images and permute dimensions for display.\n",
        "# Note: `.permute(1,0,2,3)` rearranges the tensor dimensions for grid plotting.\n",
        "images_selected = torch.stack([train_val_set.data[samples]]).permute(1, 0, 2, 3)\n",
        "\n",
        "# Print the shape of the selected images tensor to validate its dimensions.\n",
        "print(images_selected.shape)\n",
        "\n",
        "# Display the selected images using the custom 'show_images' function.\n",
        "show_images(images_selected)\n"
      ],
      "metadata": {
        "id": "6XZksyZ5lsWv",
        "colab": {
          "base_uri": "https://localhost:8080/",
          "height": 378
        },
        "outputId": "ac29e8d7-cdc3-4f71-8236-4d7297b1b820"
      },
      "execution_count": 33,
      "outputs": [
        {
          "output_type": "stream",
          "name": "stdout",
          "text": [
            "torch.Size([50, 1, 28, 28])\n"
          ]
        },
        {
          "output_type": "display_data",
          "data": {
            "text/plain": [
              "<Figure size 1000x1000 with 1 Axes>"
            ],
            "image/png": "[encoded data removed]"
          },
          "metadata": {}
        }
      ]
    },
    {
      "cell_type": "markdown",
      "metadata": {
        "id": "GLIXu5RaylkZ"
      },
      "source": [
        "# <Font color = 'indianred'>**Model1**"
      ]
    },
    {
      "cell_type": "code",
      "execution_count": 34,
      "metadata": {
        "id": "Th1wAfngIj_l",
        "colab": {
          "base_uri": "https://localhost:8080/"
        },
        "outputId": "d40aeb4b-3885-41d5-80fb-eb40b42695cb"
      },
      "outputs": [
        {
          "output_type": "execute_result",
          "data": {
            "text/plain": [
              "torch.Size([50, 1, 28, 28])"
            ]
          },
          "metadata": {},
          "execution_count": 34
        }
      ],
      "source": [
        "# Display the shape of the 'images' tensor\n",
        "images_selected.shape"
      ]
    },
    {
      "cell_type": "markdown",
      "source": [
        "Display the shape of the 'images' tensor.\n",
        "The dimensions are organized as follows:\n",
        "> - batch_size: Number of images in the current batch\n",
        "> - Channels: Number of color channels (e.g., 1 for grayscale, 3 for RGB)\n",
        "> - Height: Height of each image in pixels\n",
        "> - Width: Width of each image in pixels\n"
      ],
      "metadata": {
        "id": "mO1VUMJcS-A5"
      }
    },
    {
      "cell_type": "code",
      "execution_count": 35,
      "metadata": {
        "id": "294OA6OhkTAs",
        "colab": {
          "base_uri": "https://localhost:8080/"
        },
        "outputId": "ba7209d2-7a73-4e8a-ee4b-74f08ff1ff75"
      },
      "outputs": [
        {
          "output_type": "execute_result",
          "data": {
            "text/plain": [
              "torch.Size([50, 784])"
            ]
          },
          "metadata": {},
          "execution_count": 35
        }
      ],
      "source": [
        "# Flattening the 'images' tensor from the 2nd dimension to the last.\n",
        "# The resulting shape will be [batch_size, Channels*Height*Width].\n",
        "torch.flatten(images_selected, start_dim=1, end_dim=-1).shape\n"
      ]
    },
    {
      "cell_type": "code",
      "execution_count": 36,
      "metadata": {
        "id": "maFQczudLQpj"
      },
      "outputs": [],
      "source": [
        "nn.Flatten??"
      ]
    },
    {
      "cell_type": "code",
      "execution_count": 37,
      "metadata": {
        "execution": {
          "iopub.execute_input": "2022-09-14T05:14:37.017234Z",
          "iopub.status.busy": "2022-09-14T05:14:37.016976Z",
          "iopub.status.idle": "2022-09-14T05:14:37.020244Z",
          "shell.execute_reply": "2022-09-14T05:14:37.019755Z",
          "shell.execute_reply.started": "2022-09-14T05:14:37.017218Z"
        },
        "id": "LNJY8GBipO2q",
        "tags": []
      },
      "outputs": [],
      "source": [
        "\n",
        "def pytorch_mlp(num_features, hidden_dim1, hidden_dim2, num_classes):\n",
        "    \"\"\"\n",
        "    Creates a simple Multilayer Perceptron (MLP) model in PyTorch.\n",
        "\n",
        "    Parameters:\n",
        "    - num_features (int): The number of input features.\n",
        "    - hidden_dim1 (int): The size of the first hidden layer.\n",
        "    - hidden_dim2 (int): The size of the second hidden layer.\n",
        "    - num_classes (int): The number of output classes.\n",
        "\n",
        "    Returns:\n",
        "    - nn.Sequential: A PyTorch Sequential model representing the MLP.\n",
        "    \"\"\"\n",
        "    model = nn.Sequential(\n",
        "        # Flatten the input tensor from [batch_size, Channels, Height, Width] to [batch_size, Channels*Height*Width]\n",
        "        nn.Flatten(start_dim=1, end_dim=-1),\n",
        "\n",
        "        # First fully connected layer, followed by ReLU activation\n",
        "        nn.Linear(num_features, hidden_dim1),\n",
        "        nn.ReLU(),\n",
        "\n",
        "        # Second fully connected layer, followed by ReLU activation\n",
        "        nn.Linear(hidden_dim1, hidden_dim2),\n",
        "        nn.ReLU(),\n",
        "\n",
        "        # Output layer\n",
        "        nn.Linear(hidden_dim2, num_classes),\n",
        "    )\n",
        "    return model\n",
        "\n"
      ]
    },
    {
      "cell_type": "code",
      "execution_count": 38,
      "metadata": {
        "id": "ARAAF-1AkqIf"
      },
      "outputs": [],
      "source": [
        "model1 = pytorch_mlp(784, 200, 100, 10)"
      ]
    },
    {
      "cell_type": "code",
      "execution_count": 39,
      "metadata": {
        "id": "KLy-RYoupH5f",
        "colab": {
          "base_uri": "https://localhost:8080/"
        },
        "outputId": "9310dacf-2a63-4360-ac00-21b6197d1575"
      },
      "outputs": [
        {
          "output_type": "execute_result",
          "data": {
            "text/plain": [
              "Sequential(\n",
              "  (0): Flatten(start_dim=1, end_dim=-1)\n",
              "  (1): Linear(in_features=784, out_features=200, bias=True)\n",
              "  (2): ReLU()\n",
              "  (3): Linear(in_features=200, out_features=100, bias=True)\n",
              "  (4): ReLU()\n",
              "  (5): Linear(in_features=100, out_features=10, bias=True)\n",
              ")"
            ]
          },
          "metadata": {},
          "execution_count": 39
        }
      ],
      "source": [
        "model1"
      ]
    },
    {
      "cell_type": "code",
      "source": [
        "summary(model1, (1, 28, 28))"
      ],
      "metadata": {
        "id": "zJFC-ocZmr8b",
        "colab": {
          "base_uri": "https://localhost:8080/"
        },
        "outputId": "b814c9c9-53cd-4b08-d6e5-3e6d068061f0"
      },
      "execution_count": 40,
      "outputs": [
        {
          "output_type": "execute_result",
          "data": {
            "text/plain": [
              "==========================================================================================\n",
              "Layer (type:depth-idx)                   Output Shape              Param #\n",
              "==========================================================================================\n",
              "Sequential                               [1, 10]                   --\n",
              "├─Flatten: 1-1                           [1, 784]                  --\n",
              "├─Linear: 1-2                            [1, 200]                  157,000\n",
              "├─ReLU: 1-3                              [1, 200]                  --\n",
              "├─Linear: 1-4                            [1, 100]                  20,100\n",
              "├─ReLU: 1-5                              [1, 100]                  --\n",
              "├─Linear: 1-6                            [1, 10]                   1,010\n",
              "==========================================================================================\n",
              "Total params: 178,110\n",
              "Trainable params: 178,110\n",
              "Non-trainable params: 0\n",
              "Total mult-adds (M): 0.18\n",
              "==========================================================================================\n",
              "Input size (MB): 0.00\n",
              "Forward/backward pass size (MB): 0.00\n",
              "Params size (MB): 0.71\n",
              "Estimated Total Size (MB): 0.72\n",
              "=========================================================================================="
            ]
          },
          "metadata": {},
          "execution_count": 40
        }
      ]
    },
    {
      "cell_type": "markdown",
      "metadata": {
        "id": "Fr9Njop5pfcX"
      },
      "source": [
        "# <Font color = 'indianred'>**Model2**\n",
        "\n"
      ]
    },
    {
      "cell_type": "code",
      "execution_count": 41,
      "metadata": {
        "id": "d-DV1vx6qaNo"
      },
      "outputs": [],
      "source": [
        "class PytorchMLP(nn.Module):\n",
        "    \"\"\"\n",
        "    Custom Multilayer Perceptron (MLP) class that inherits from PyTorch's nn.Module.\n",
        "\n",
        "    Parameters:\n",
        "    - num_features (int): The number of input features.\n",
        "    - hidden_dim1 (int): The size of the first hidden layer.\n",
        "    - hidden_dim2 (int): The size of the second hidden layer.\n",
        "    - num_classes (int): The number of output classes.\n",
        "    \"\"\"\n",
        "    def __init__(self, num_features, hidden_dim1, hidden_dim2, num_classes):\n",
        "        super().__init__()\n",
        "\n",
        "        # Define the sequence of layers for the MLP , use self as we need to use outside the fn\n",
        "        self.layers = nn.Sequential(\n",
        "        # Flatten the input tensor from [batch_size, Channels, Height, Width] to [batch_size, Channels*Height*Width]\n",
        "        nn.Flatten(start_dim=1, end_dim=-1),\n",
        "\n",
        "        # First fully connected layer, followed by ReLU activation\n",
        "        nn.Linear(num_features, hidden_dim1),\n",
        "        nn.ReLU(),\n",
        "\n",
        "        # Second fully connected layer, followed by ReLU activation\n",
        "        nn.Linear(hidden_dim1, hidden_dim2),\n",
        "        nn.ReLU(),\n",
        "\n",
        "        # Output layer\n",
        "        nn.Linear(hidden_dim2, num_classes))\n",
        "\n",
        "        # code here\n",
        "\n",
        "    def forward(self, x):\n",
        "        \"\"\"\n",
        "        Forward pass of the network.\n",
        "\n",
        "        Parameters:\n",
        "        - x (torch.Tensor): The input tensor.\n",
        "\n",
        "        Returns:\n",
        "        - out (torch.Tensor): The output tensor.\n",
        "        \"\"\"\n",
        "        out = self.layers(x)\n",
        "        return out\n"
      ]
    },
    {
      "cell_type": "code",
      "execution_count": 42,
      "metadata": {
        "id": "5KjP_WFxrsos"
      },
      "outputs": [],
      "source": [
        "model2a=PytorchMLP(784, 200, 100, 10)"
      ]
    },
    {
      "cell_type": "code",
      "execution_count": 43,
      "metadata": {
        "id": "JegewgU1r4Ag",
        "colab": {
          "base_uri": "https://localhost:8080/"
        },
        "outputId": "85989f1e-7c09-41ff-a1af-667604936223"
      },
      "outputs": [
        {
          "output_type": "execute_result",
          "data": {
            "text/plain": [
              "PytorchMLP(\n",
              "  (layers): Sequential(\n",
              "    (0): Flatten(start_dim=1, end_dim=-1)\n",
              "    (1): Linear(in_features=784, out_features=200, bias=True)\n",
              "    (2): ReLU()\n",
              "    (3): Linear(in_features=200, out_features=100, bias=True)\n",
              "    (4): ReLU()\n",
              "    (5): Linear(in_features=100, out_features=10, bias=True)\n",
              "  )\n",
              ")"
            ]
          },
          "metadata": {},
          "execution_count": 43
        }
      ],
      "source": [
        "model2a"
      ]
    },
    {
      "cell_type": "code",
      "source": [
        "summary(model2a, (1, 28, 28))"
      ],
      "metadata": {
        "id": "yQm7MpsgniP2",
        "colab": {
          "base_uri": "https://localhost:8080/"
        },
        "outputId": "4e0be61f-f210-4afb-aea5-c566972f567a"
      },
      "execution_count": 44,
      "outputs": [
        {
          "output_type": "execute_result",
          "data": {
            "text/plain": [
              "==========================================================================================\n",
              "Layer (type:depth-idx)                   Output Shape              Param #\n",
              "==========================================================================================\n",
              "PytorchMLP                               [1, 10]                   --\n",
              "├─Sequential: 1-1                        [1, 10]                   --\n",
              "│    └─Flatten: 2-1                      [1, 784]                  --\n",
              "│    └─Linear: 2-2                       [1, 200]                  157,000\n",
              "│    └─ReLU: 2-3                         [1, 200]                  --\n",
              "│    └─Linear: 2-4                       [1, 100]                  20,100\n",
              "│    └─ReLU: 2-5                         [1, 100]                  --\n",
              "│    └─Linear: 2-6                       [1, 10]                   1,010\n",
              "==========================================================================================\n",
              "Total params: 178,110\n",
              "Trainable params: 178,110\n",
              "Non-trainable params: 0\n",
              "Total mult-adds (M): 0.18\n",
              "==========================================================================================\n",
              "Input size (MB): 0.00\n",
              "Forward/backward pass size (MB): 0.00\n",
              "Params size (MB): 0.71\n",
              "Estimated Total Size (MB): 0.72\n",
              "=========================================================================================="
            ]
          },
          "metadata": {},
          "execution_count": 44
        }
      ]
    },
    {
      "cell_type": "markdown",
      "source": [
        "<img src =\"https://drive.google.com/uc?export=view&id=15fHshFY9Mz9ObaZvUA094UiZrg8DCcTI\" width = 200 >"
      ],
      "metadata": {
        "id": "1SOz5Dh4-rap"
      }
    },
    {
      "cell_type": "code",
      "execution_count": 45,
      "metadata": {
        "id": "qX3jYWbAr5oj"
      },
      "outputs": [],
      "source": [
        "class PytorchMLPSkip(nn.Module):\n",
        "    \"\"\"\n",
        "    Custom Multilayer Perceptron (MLP) with skip connections class that inherits from PyTorch's nn.Module.\n",
        "\n",
        "    Parameters:\n",
        "    - num_features (int): The number of input features.\n",
        "    - hidden_dim1 (int): The size of the first hidden layer.\n",
        "    - hidden_dim2 (int): The size of the second hidden layer.\n",
        "    - num_classes (int): The number of output classes.\n",
        "    \"\"\"\n",
        "    def __init__(self, num_features, hidden_dim1, hidden_dim2, num_classes):\n",
        "        super().__init__()\n",
        "\n",
        "        # Flatten layer to convert input tensor shape from [batch_size, C, H, W] to [batch_size, C*H*W]\n",
        "        self.flatten = nn.Flatten()\n",
        "\n",
        "        # First hidden layer and its activation function\n",
        "        self.hidden_layer1 = nn.Linear(num_features, hidden_dim1)\n",
        "        self.layer1_activation = nn.ReLU()\n",
        "\n",
        "        # Second hidden layer and its activation function\n",
        "        self.hidden_layer2 = nn.Linear(hidden_dim1, hidden_dim2)\n",
        "        self.layer2_activation = nn.ReLU()\n",
        "\n",
        "        # Output layer that combines output from both hidden layers\n",
        "        self.output_layer = nn.Linear(hidden_dim1 + hidden_dim2, num_classes)\n",
        "\n",
        "    def forward(self, x):\n",
        "        \"\"\"\n",
        "        Forward pass of the network with skip connection.\n",
        "\n",
        "        Parameters:\n",
        "        - x (torch.Tensor): The input tensor.\n",
        "\n",
        "        Returns:\n",
        "        - out (torch.Tensor): The output tensor.\n",
        "        \"\"\"\n",
        "        x = self.flatten(x)\n",
        "        out1 = self.layer1_activation(self.hidden_layer1(x))\n",
        "\n",
        "        out2 = self.layer2_activation(self.hidden_layer2(out1))\n",
        "\n",
        "        concat_output = torch.cat((out1, out2), dim=1)\n",
        "\n",
        "        return self.output_layer(concat_output)\n",
        "\n",
        "\n",
        "\n",
        "\n",
        "\n"
      ]
    },
    {
      "cell_type": "code",
      "execution_count": 46,
      "metadata": {
        "id": "Z5Ygds6EuhrY"
      },
      "outputs": [],
      "source": [
        "model2b= PytorchMLPSkip(784, 200, 100, 10)"
      ]
    },
    {
      "cell_type": "code",
      "execution_count": 47,
      "metadata": {
        "id": "YqBLUi5tumFv",
        "colab": {
          "base_uri": "https://localhost:8080/"
        },
        "outputId": "401b6077-32fe-480a-e141-387e53ae235d"
      },
      "outputs": [
        {
          "output_type": "execute_result",
          "data": {
            "text/plain": [
              "PytorchMLPSkip(\n",
              "  (flatten): Flatten(start_dim=1, end_dim=-1)\n",
              "  (hidden_layer1): Linear(in_features=784, out_features=200, bias=True)\n",
              "  (layer1_activation): ReLU()\n",
              "  (hidden_layer2): Linear(in_features=200, out_features=100, bias=True)\n",
              "  (layer2_activation): ReLU()\n",
              "  (output_layer): Linear(in_features=300, out_features=10, bias=True)\n",
              ")"
            ]
          },
          "metadata": {},
          "execution_count": 47
        }
      ],
      "source": [
        "model2b"
      ]
    },
    {
      "cell_type": "code",
      "source": [
        "summary(model2b, (1, 28, 28))"
      ],
      "metadata": {
        "id": "4DWvYCXTnmJs",
        "colab": {
          "base_uri": "https://localhost:8080/"
        },
        "outputId": "504b92f3-168e-4fe8-8380-a5d3d234a24b"
      },
      "execution_count": 48,
      "outputs": [
        {
          "output_type": "execute_result",
          "data": {
            "text/plain": [
              "==========================================================================================\n",
              "Layer (type:depth-idx)                   Output Shape              Param #\n",
              "==========================================================================================\n",
              "PytorchMLPSkip                           [1, 10]                   --\n",
              "├─Flatten: 1-1                           [1, 784]                  --\n",
              "├─Linear: 1-2                            [1, 200]                  157,000\n",
              "├─ReLU: 1-3                              [1, 200]                  --\n",
              "├─Linear: 1-4                            [1, 100]                  20,100\n",
              "├─ReLU: 1-5                              [1, 100]                  --\n",
              "├─Linear: 1-6                            [1, 10]                   3,010\n",
              "==========================================================================================\n",
              "Total params: 180,110\n",
              "Trainable params: 180,110\n",
              "Non-trainable params: 0\n",
              "Total mult-adds (M): 0.18\n",
              "==========================================================================================\n",
              "Input size (MB): 0.00\n",
              "Forward/backward pass size (MB): 0.00\n",
              "Params size (MB): 0.72\n",
              "Estimated Total Size (MB): 0.73\n",
              "=========================================================================================="
            ]
          },
          "metadata": {},
          "execution_count": 48
        }
      ]
    },
    {
      "cell_type": "markdown",
      "metadata": {
        "id": "aqI_o6qwy6lb"
      },
      "source": [
        "# <Font color = 'indianred'>**Model Training**\n",
        "\n",
        "\n"
      ]
    },
    {
      "cell_type": "markdown",
      "source": [
        "To train a machine learning model effectively, we need a structured approach that combines training and evaluation while maintaining flexibility and readability. We break down the training loop into four distinct functions, each serving a specific role. This modular approach enhances code clarity, reusability, and allows for easy modifications. Let's outline our strategy for training and evaluation:\n",
        "\n",
        "1. **`step` Function**: This is our foundational building block. It handles a single forward and backward step for a batch of data. Whether during training or evaluation, we need to calculate model outputs, compute the loss, and potentially perform backpropagation to update model parameters. By encapsulating these fundamental operations in `step`, we ensure consistency and enable future adjustments with minimal disruption.\n",
        "\n",
        "  **Model Training** involves five steps:\n",
        "\n",
        "- Step 1: Compute model's predictions - forward pass (both train and eval)\n",
        "- Step 2: Compute loss (both train and eval)\n",
        "- Step 3: Compute the gradients (only train)\n",
        "- Step 4: Update the parameters (only train)\n",
        "- Step 5: Repeat steps 1 - 4\n",
        "\n",
        "\n",
        "2. **`train_epoch` Function**: This function orchestrates training for a single epoch. It iterates through the entire training dataset, invoking `step` for each batch. While doing so, it keeps track of the running training loss and the number of correct predictions. Its primary role is to aggregate statistics for the entire epoch. Additionally, it ensures that the model is in the training mode.\n",
        "\n",
        "3. **`val_epoch` Function**: Similar to `train_epoch`, this function handles validation. It iterates through the validation dataset, employing `step` for each batch, but crucially, it operates in a context where gradients aren't computed. This no-gradient mode conserves memory and computational resources. Like `train_epoch`, it is responsible for aggregating validation metrics and also ensures that the model is in evaluation mode.\n",
        "\n",
        "4. **`train` Function**: Our top-level function for training the model. It sets up the training environment for multiple epochs, invoking `train_epoch` for each training epoch and `val_epoch` for each validation epoch. It keeps track of metrics across epochs, making it easier to analyze model performance over time.\n",
        "\n",
        "By organizing our training and evaluation pipeline in this manner, we achieve code modularity and clarity. Furthermore, this structure allows us to easily swap out components like loss functions, optimizers, or metrics without overhauling the entire codebase. Now, let's dive into the details of each function."
      ],
      "metadata": {
        "id": "D8jAxlBKWafL"
      }
    },
    {
      "cell_type": "markdown",
      "source": [
        "## <Font color = 'indianred'>**Step Function**"
      ],
      "metadata": {
        "id": "ndebVBmw_GMp"
      }
    },
    {
      "cell_type": "code",
      "source": [
        "def step(inputs, targets, model, device, loss_function=None, optimizer=None):\n",
        "    \"\"\"\n",
        "    Performs a forward and backward pass for a given batch of inputs and targets.\n",
        "\n",
        "    Parameters:\n",
        "    - inputs (torch.Tensor): The input data for the model.\n",
        "    - targets (torch.Tensor): The true labels for the input data.\n",
        "    - model (torch.nn.Module): The neural network model.\n",
        "    - device (torch.device): The computing device (CPU or GPU).\n",
        "    - loss_function (torch.nn.Module, optional): The loss function to use.\n",
        "    - optimizer (torch.optim.Optimizer, optional): The optimizer to update model parameters.\n",
        "\n",
        "    Returns:\n",
        "    - loss (float): The computed loss value (only if loss_function is not None).\n",
        "    - outputs (torch.Tensor): The predictions from the model.\n",
        "    - correct (int): The number of correctly classified samples in the batch.\n",
        "    \"\"\"\n",
        "    # Move the model and data to the device\n",
        "    model = model.to(device)\n",
        "    inputs = inputs.to(device)\n",
        "    targets = targets.to(device)\n",
        "\n",
        "    # Step 1: Forward pass to get the model's predictions\n",
        "    outputs = model(inputs)\n",
        "\n",
        "    # Step 2: Compute the loss using the provided loss function\n",
        "    if loss_function:\n",
        "        loss = loss_function(outputs, targets)\n",
        "\n",
        "    # Step 2: Calculate the number of correctly classified samples\n",
        "    predicted = torch.argmax(outputs.data, 1)\n",
        "    correct = (predicted == targets).sum().item() # item converge to numpy\n",
        "\n",
        "    # Step 3 and 4: Perform backward pass and update model parameters if an optimizer is provided\n",
        "    if optimizer:\n",
        "        optimizer.zero_grad()\n",
        "        loss.backward()\n",
        "        optimizer.step()\n",
        "\n",
        "    # Return relevant metrics\n",
        "    if loss_function:\n",
        "        return loss, outputs, correct\n",
        "    else:\n",
        "        return outputs, correct\n"
      ],
      "metadata": {
        "id": "GEM8sbJu8ADo"
      },
      "execution_count": 49,
      "outputs": []
    },
    {
      "cell_type": "markdown",
      "source": [
        "## <Font color = 'indianred'>**Train_Epoch Function**"
      ],
      "metadata": {
        "id": "bkT0zT_XYL4s"
      }
    },
    {
      "cell_type": "code",
      "source": [
        "def train_epoch(train_loader, model, device, loss_function, optimizer):\n",
        "    \"\"\"\n",
        "    Trains the model for one epoch using the provided data loader and updates the model parameters.\n",
        "\n",
        "    Parameters:\n",
        "    - train_loader (torch.utils.data.DataLoader): DataLoader object for the training set.\n",
        "    - model (torch.nn.Module): The neural network model to be trained.\n",
        "    - device (torch.device): The computing device (CPU or GPU).\n",
        "    - loss_function (torch.nn.Module): The loss function to use for training.\n",
        "    - optimizer (torch.optim.Optimizer): The optimizer to update model parameters.\n",
        "\n",
        "    Returns:\n",
        "    - train_loss (float): Average training loss for the epoch.\n",
        "    - train_acc (float): Training accuracy for the epoch.\n",
        "    \"\"\"\n",
        "    # Set the model to training mode\n",
        "    model.train()\n",
        "\n",
        "    # Initialize variables to track running training loss and correct predictions\n",
        "    running_train_loss = 0.0\n",
        "    running_train_correct = 0\n",
        "\n",
        "    # Iterate over all batches in the training data\n",
        "    for inputs, targets in train_loader:\n",
        "        # Perform a forward and backward pass, updating model parameters\n",
        "        loss, _, correct = step(inputs, targets, model, device, loss_function, optimizer)\n",
        "\n",
        "        # Update running loss and correct predictions counter\n",
        "        running_train_loss += loss.item()\n",
        "        running_train_correct += correct\n",
        "\n",
        "    # Compute average loss and accuracy for the entire training set\n",
        "    train_loss = running_train_loss / len(train_loader) # train_loader len = no of batches\n",
        "    train_acc = running_train_correct / len(train_loader.dataset) # total no of obs\n",
        "\n",
        "    return train_loss, train_acc\n"
      ],
      "metadata": {
        "id": "J2BpCxsrAnqf"
      },
      "execution_count": 50,
      "outputs": []
    },
    {
      "cell_type": "markdown",
      "source": [
        "## <Font color = 'indianred'>**Val_Epoch Function**"
      ],
      "metadata": {
        "id": "_eMtYWiBYSvv"
      }
    },
    {
      "cell_type": "code",
      "source": [
        "def val_epoch(valid_loader, model, device, loss_function):\n",
        "    \"\"\"\n",
        "    Validates the model for one epoch using the provided data loader.\n",
        "\n",
        "    Parameters:\n",
        "    - valid_loader (torch.utils.data.DataLoader): DataLoader object for the validation set.\n",
        "    - model (torch.nn.Module): The neural network model to be validated.\n",
        "    - device (torch.device): The computing device (CPU or GPU).\n",
        "    - loss_function (torch.nn.Module): The loss function to evaluate the model.\n",
        "\n",
        "    Returns:\n",
        "    - val_loss (float): Average validation loss for the epoch.\n",
        "    - val_acc (float): Validation accuracy for the epoch.\n",
        "    \"\"\"\n",
        "    # Set the model to evaluation mode\n",
        "    model.eval()\n",
        "\n",
        "    # Initialize variables to track running validation loss and correct predictions\n",
        "    running_val_loss = 0.0\n",
        "    running_val_correct = 0\n",
        "\n",
        "    # Disable gradient computation\n",
        "    with torch.no_grad():\n",
        "        # Iterate over all batches in the validation data\n",
        "        for inputs, targets in valid_loader:\n",
        "            # Perform a forward pass to get loss and number of correct predictions\n",
        "            loss, _, correct = step(inputs, targets, model, device, loss_function, optimizer=None)\n",
        "\n",
        "            # Update running loss and correct predictions counter\n",
        "            running_val_loss += loss.item()\n",
        "            running_val_correct += correct\n",
        "\n",
        "    # Compute average loss and accuracy for the entire validation set\n",
        "    val_loss = running_val_loss / len(valid_loader)\n",
        "    val_acc = running_val_correct / len(valid_loader.dataset)\n",
        "\n",
        "    return val_loss, val_acc\n"
      ],
      "metadata": {
        "id": "uCGiGJtkAxQe"
      },
      "execution_count": 51,
      "outputs": []
    },
    {
      "cell_type": "markdown",
      "source": [
        "## <Font color = 'indianred'>**Train Function**"
      ],
      "metadata": {
        "id": "rp-VIoEBYWDg"
      }
    },
    {
      "cell_type": "code",
      "source": [
        "def train(train_loader, valid_loader, model, optimizer, loss_function, epochs, device):\n",
        "    \"\"\"\n",
        "    Trains and validates the model, and returns history of train and validation metrics.\n",
        "\n",
        "    Parameters:\n",
        "    - train_loader (torch.utils.data.DataLoader): DataLoader for the training set.\n",
        "    - valid_loader (torch.utils.data.DataLoader): DataLoader for the validation set.\n",
        "    - model (torch.nn.Module): Neural network model to train.\n",
        "    - optimizer (torch.optim.Optimizer): Optimizer algorithm.\n",
        "    - loss_function (torch.nn.Module): Loss function to evaluate the model.\n",
        "    - epochs (int): Number of epochs to train the model.\n",
        "    - device (torch.device): The computing device (CPU or GPU).\n",
        "\n",
        "    Returns:\n",
        "    - train_loss_history (list): History of training loss for each epoch.\n",
        "    - train_acc_history (list): History of training accuracy for each epoch.\n",
        "    - valid_loss_history (list): History of validation loss for each epoch.\n",
        "    - valid_acc_history (list): History of validation accuracy for each epoch.\n",
        "    \"\"\"\n",
        "\n",
        "    # Initialize lists to store metrics for each epoch\n",
        "    train_loss_history = []\n",
        "    valid_loss_history = []\n",
        "    train_acc_history = []\n",
        "    valid_acc_history = []\n",
        "\n",
        "    # Loop over the number of specified epochs\n",
        "    for epoch in range(epochs):\n",
        "        # Train model on training data and capture metrics\n",
        "        train_loss, train_acc = train_epoch(\n",
        "            train_loader, model, device, loss_function, optimizer)\n",
        "\n",
        "        # Validate model on validation data and capture metrics\n",
        "        valid_loss, valid_acc = val_epoch(\n",
        "            valid_loader, model, device, loss_function)\n",
        "\n",
        "        # Store metrics for this epoch\n",
        "        train_loss_history.append(train_loss)\n",
        "        train_acc_history.append(train_acc)\n",
        "        valid_loss_history.append(valid_loss)\n",
        "        valid_acc_history.append(valid_acc)\n",
        "\n",
        "        # Output epoch-level summary\n",
        "        print(f\"Epoch {epoch+1}/{epochs}\")\n",
        "        print(f\"Train Loss: {train_loss:.4f} | Train Accuracy: {train_acc*100:.2f}%\")\n",
        "        print(f\"Valid Loss: {valid_loss:.4f} | Valid Accuracy: {valid_acc*100:.2f}%\")\n",
        "        print()\n",
        "\n",
        "    return train_loss_history, train_acc_history, valid_loss_history, valid_acc_history\n"
      ],
      "metadata": {
        "id": "kBKa4xPxA9-n"
      },
      "execution_count": 52,
      "outputs": []
    },
    {
      "cell_type": "markdown",
      "source": [
        "## <Font color = 'indianred'>**Hyperparameters**"
      ],
      "metadata": {
        "id": "oRwZKRhIBCba"
      }
    },
    {
      "cell_type": "code",
      "execution_count": 53,
      "metadata": {
        "execution": {
          "iopub.execute_input": "2022-09-14T05:14:37.034571Z",
          "iopub.status.busy": "2022-09-14T05:14:37.034212Z",
          "iopub.status.idle": "2022-09-14T05:14:37.040441Z",
          "shell.execute_reply": "2022-09-14T05:14:37.039923Z",
          "shell.execute_reply.started": "2022-09-14T05:14:37.034554Z"
        },
        "id": "Pv4x22lZMn5p",
        "tags": [],
        "colab": {
          "base_uri": "https://localhost:8080/"
        },
        "outputId": "06164468-f655-4a26-ecbf-3f1c825ccd8b"
      },
      "outputs": [
        {
          "output_type": "execute_result",
          "data": {
            "text/plain": [
              "==========================================================================================\n",
              "Layer (type:depth-idx)                   Output Shape              Param #\n",
              "==========================================================================================\n",
              "PytorchMLPSkip                           [1, 10]                   --\n",
              "├─Flatten: 1-1                           [1, 784]                  --\n",
              "├─Linear: 1-2                            [1, 200]                  157,000\n",
              "├─ReLU: 1-3                              [1, 200]                  --\n",
              "├─Linear: 1-4                            [1, 100]                  20,100\n",
              "├─ReLU: 1-5                              [1, 100]                  --\n",
              "├─Linear: 1-6                            [1, 10]                   3,010\n",
              "==========================================================================================\n",
              "Total params: 180,110\n",
              "Trainable params: 180,110\n",
              "Non-trainable params: 0\n",
              "Total mult-adds (M): 0.18\n",
              "==========================================================================================\n",
              "Input size (MB): 0.00\n",
              "Forward/backward pass size (MB): 0.00\n",
              "Params size (MB): 0.72\n",
              "Estimated Total Size (MB): 0.73\n",
              "=========================================================================================="
            ]
          },
          "metadata": {},
          "execution_count": 53
        }
      ],
      "source": [
        "# Define the model architecture and training parameters\n",
        "num_features = 784\n",
        "hidden_dim1 = 200\n",
        "hidden_dim2 = 100\n",
        "num_classes = 10\n",
        "epochs = 20\n",
        "learning_rate = 0.03\n",
        "\n",
        "# Set a random seed for reproducibility\n",
        "torch.manual_seed(42)\n",
        "\n",
        "# Create the neural network model\n",
        "model = PytorchMLPSkip(num_features, hidden_dim1, hidden_dim2, num_classes)\n",
        "\n",
        "# Define the optimizer for updating model parameters\n",
        "optimizer = torch.optim.SGD(model.parameters(), lr=learning_rate)\n",
        "\n",
        "# Define the loss function for training\n",
        "loss_function = nn.CrossEntropyLoss()\n",
        "\n",
        "# Determine the computing device (CPU or GPU) to use\n",
        "device = torch.device('cuda:0' if torch.cuda.is_available() else 'cpu')\n",
        "\n",
        "summary(model, (1, 28, 28))\n"
      ]
    },
    {
      "cell_type": "markdown",
      "metadata": {
        "id": "ffeGh2dcukdK"
      },
      "source": [
        "## <Font color = 'indianred'>**Sanity Check**\n",
        "- Check the loss without any training. For Cross entropy the expected value will be log(number of classes)"
      ]
    },
    {
      "cell_type": "code",
      "execution_count": 54,
      "metadata": {
        "id": "p2Gx7jgbumux",
        "colab": {
          "base_uri": "https://localhost:8080/"
        },
        "outputId": "23b1233b-2b2b-4e0e-9469-c18daddef5c9"
      },
      "outputs": [
        {
          "output_type": "stream",
          "name": "stdout",
          "text": [
            "Actual loss: 2.368440866470337\n",
            "Actual loss: 2.3638741970062256\n",
            "Actual loss: 2.3756754398345947\n",
            "Expected Theoretical loss: 2.3025850929940455\n"
          ]
        }
      ],
      "source": [
        "# Sanity check to verify initial loss\n",
        "i = 0\n",
        "expected_loss = np.log(10)  # Theoretical loss for a random model\n",
        "for input_, targets in train_loader:\n",
        "    # Move inputs and targets to the specified device\n",
        "    input_ = input_.to(device)\n",
        "    targets = targets.to(device)\n",
        "    model.to(device)\n",
        "    model.eval()\n",
        "\n",
        "    # Forward pass\n",
        "    output = model(input_)\n",
        "\n",
        "    # Calculate the loss\n",
        "    loss = loss_function(output, targets)\n",
        "    print(f'Actual loss: {loss}')\n",
        "\n",
        "    i += 1\n",
        "    if i > 2:\n",
        "        break\n",
        "\n",
        "print(f'Expected Theoretical loss: {expected_loss}')\n"
      ]
    },
    {
      "cell_type": "markdown",
      "source": [
        "## <Font color = 'indianred'>**Call Train Function**"
      ],
      "metadata": {
        "id": "zUefRNdEYpUr"
      }
    },
    {
      "cell_type": "code",
      "source": [
        "# Call the train function to train the model\n",
        "train_losses, train_acc, valid_losses, valid_acc = train(\n",
        "    train_loader, valid_loader, model, optimizer, loss_function, epochs, device\n",
        ")\n"
      ],
      "metadata": {
        "id": "IxoDA-ETBrrZ",
        "colab": {
          "base_uri": "https://localhost:8080/"
        },
        "outputId": "8a1dab53-f936-451f-97e4-7f1051fbb1fc"
      },
      "execution_count": 55,
      "outputs": [
        {
          "output_type": "stream",
          "name": "stdout",
          "text": [
            "Epoch 1/20\n",
            "Train Loss: 0.8298 | Train Accuracy: 73.59%\n",
            "Valid Loss: 0.5814 | Valid Accuracy: 78.91%\n",
            "\n",
            "Epoch 2/20\n",
            "Train Loss: 0.5240 | Train Accuracy: 81.56%\n",
            "Valid Loss: 0.5042 | Valid Accuracy: 81.88%\n",
            "\n",
            "Epoch 3/20\n",
            "Train Loss: 0.4710 | Train Accuracy: 83.30%\n",
            "Valid Loss: 0.4519 | Valid Accuracy: 84.01%\n",
            "\n",
            "Epoch 4/20\n",
            "Train Loss: 0.4434 | Train Accuracy: 84.40%\n",
            "Valid Loss: 0.4502 | Valid Accuracy: 84.02%\n",
            "\n",
            "Epoch 5/20\n",
            "Train Loss: 0.4218 | Train Accuracy: 84.98%\n",
            "Valid Loss: 0.4273 | Valid Accuracy: 84.60%\n",
            "\n",
            "Epoch 6/20\n",
            "Train Loss: 0.4069 | Train Accuracy: 85.54%\n",
            "Valid Loss: 0.3941 | Valid Accuracy: 85.96%\n",
            "\n",
            "Epoch 7/20\n",
            "Train Loss: 0.3933 | Train Accuracy: 86.00%\n",
            "Valid Loss: 0.3929 | Valid Accuracy: 85.96%\n",
            "\n",
            "Epoch 8/20\n",
            "Train Loss: 0.3845 | Train Accuracy: 86.29%\n",
            "Valid Loss: 0.3853 | Valid Accuracy: 86.24%\n",
            "\n",
            "Epoch 9/20\n",
            "Train Loss: 0.3735 | Train Accuracy: 86.69%\n",
            "Valid Loss: 0.3726 | Valid Accuracy: 86.61%\n",
            "\n",
            "Epoch 10/20\n",
            "Train Loss: 0.3642 | Train Accuracy: 87.00%\n",
            "Valid Loss: 0.3645 | Valid Accuracy: 86.96%\n",
            "\n",
            "Epoch 11/20\n",
            "Train Loss: 0.3570 | Train Accuracy: 87.26%\n",
            "Valid Loss: 0.3496 | Valid Accuracy: 87.60%\n",
            "\n",
            "Epoch 12/20\n",
            "Train Loss: 0.3504 | Train Accuracy: 87.44%\n",
            "Valid Loss: 0.3655 | Valid Accuracy: 86.61%\n",
            "\n",
            "Epoch 13/20\n",
            "Train Loss: 0.3433 | Train Accuracy: 87.70%\n",
            "Valid Loss: 0.3464 | Valid Accuracy: 87.45%\n",
            "\n",
            "Epoch 14/20\n",
            "Train Loss: 0.3373 | Train Accuracy: 87.96%\n",
            "Valid Loss: 0.3322 | Valid Accuracy: 88.09%\n",
            "\n",
            "Epoch 15/20\n",
            "Train Loss: 0.3314 | Train Accuracy: 88.03%\n",
            "Valid Loss: 0.3232 | Valid Accuracy: 88.60%\n",
            "\n",
            "Epoch 16/20\n",
            "Train Loss: 0.3267 | Train Accuracy: 88.26%\n",
            "Valid Loss: 0.3155 | Valid Accuracy: 88.86%\n",
            "\n",
            "Epoch 17/20\n",
            "Train Loss: 0.3207 | Train Accuracy: 88.60%\n",
            "Valid Loss: 0.3133 | Valid Accuracy: 88.85%\n",
            "\n",
            "Epoch 18/20\n",
            "Train Loss: 0.3161 | Train Accuracy: 88.72%\n",
            "Valid Loss: 0.3077 | Valid Accuracy: 89.04%\n",
            "\n",
            "Epoch 19/20\n",
            "Train Loss: 0.3126 | Train Accuracy: 88.80%\n",
            "Valid Loss: 0.3396 | Valid Accuracy: 87.96%\n",
            "\n",
            "Epoch 20/20\n",
            "Train Loss: 0.3070 | Train Accuracy: 88.94%\n",
            "Valid Loss: 0.3030 | Valid Accuracy: 89.17%\n",
            "\n"
          ]
        }
      ]
    },
    {
      "cell_type": "markdown",
      "source": [
        "## <Font color = 'indianred'>**Plot Losses Metrics**\n"
      ],
      "metadata": {
        "id": "wIfhnc96Ywmx"
      }
    },
    {
      "cell_type": "code",
      "source": [
        "def plot_history(train_losses, train_metrics, val_losses=None, val_metrics=None):\n",
        "    \"\"\"\n",
        "    Plot training and validation loss and metrics over epochs.\n",
        "\n",
        "    Args:\n",
        "        train_losses (list): List of training losses for each epoch.\n",
        "        train_metrics (list): List of training metrics (e.g., accuracy) for each epoch.\n",
        "        val_losses (list, optional): List of validation losses for each epoch.\n",
        "        val_metrics (list, optional): List of validation metrics for each epoch.\n",
        "\n",
        "    Returns:\n",
        "        None\n",
        "    \"\"\"\n",
        "    epochs = range(1, len(train_losses) + 1)\n",
        "\n",
        "    # Plot training and validation losses\n",
        "    plt.figure()\n",
        "    plt.plot(epochs, train_losses, label=\"Train\")\n",
        "    if val_losses:\n",
        "        plt.plot(epochs, val_losses, label=\"Validation\")\n",
        "    plt.xlabel(\"Epochs\")\n",
        "    plt.ylabel(\"Loss\")\n",
        "    plt.legend()\n",
        "    plt.show()\n",
        "\n",
        "    # Plot training and validation metrics (if available)\n",
        "    if train_metrics[0] is not None:\n",
        "        plt.figure()\n",
        "        plt.plot(epochs, train_metrics, label=\"Train\")\n",
        "        if val_metrics:\n",
        "            plt.plot(epochs, val_metrics, label=\"Validation\")\n",
        "        plt.xlabel(\"Epochs\")\n",
        "        plt.ylabel(\"Metric\")\n",
        "        plt.legend()\n",
        "        plt.show()\n"
      ],
      "metadata": {
        "id": "qjX-gC5FFvaf"
      },
      "execution_count": 56,
      "outputs": []
    },
    {
      "cell_type": "code",
      "source": [
        "plot_history(train_losses, train_acc, valid_losses, valid_acc)"
      ],
      "metadata": {
        "id": "CCvkqCnDGkgm",
        "colab": {
          "base_uri": "https://localhost:8080/",
          "height": 881
        },
        "outputId": "e36d696e-a024-4d23-fdd1-660da5f9572f"
      },
      "execution_count": 57,
      "outputs": [
        {
          "output_type": "display_data",
          "data": {
            "text/plain": [
              "<Figure size 640x480 with 1 Axes>"
            ],
            "image/png": "[encoded data removed]"
          },
          "metadata": {}
        },
        {
          "output_type": "display_data",
          "data": {
            "text/plain": [
              "<Figure size 640x480 with 1 Axes>"
            ],
            "image/png": "[encoded data removed]"
          },
          "metadata": {}
        }
      ]
    },
    {
      "cell_type": "markdown",
      "source": [
        "# <Font color = 'indianred'>**Model Checkpointing**"
      ],
      "metadata": {
        "id": "VDUi62j2EzkE"
      }
    },
    {
      "cell_type": "code",
      "source": [
        "# Get the current timestamp in the format \"YYYY-MM-DD_HH-MM-SS\"\n",
        "timestamp = datetime.now().strftime(\"%Y-%m-%d_%H-%M-%S\")\n",
        "\n",
        "# Define a suffix for the file name\n",
        "suffix = 'twolayer_skip'\n",
        "\n",
        "# Combine the timestamp and suffix to create the file path\n",
        "path = model_folder / f'{timestamp}_{suffix}.pt'\n"
      ],
      "metadata": {
        "id": "G3_c1t5JaTLH"
      },
      "execution_count": 58,
      "outputs": []
    },
    {
      "cell_type": "code",
      "source": [
        "# Save the model's state dictionary to the specified file path\n",
        "torch.save(model.state_dict(), path)\n"
      ],
      "metadata": {
        "id": "POL0Z3DZZGAP"
      },
      "execution_count": 59,
      "outputs": []
    },
    {
      "cell_type": "code",
      "source": [
        "# Create an instance of the model with the same architecture\n",
        "my_model = PytorchMLPSkip(num_features, hidden_dim1, hidden_dim2, num_classes)\n",
        "\n",
        "# Load the model's state dictionary from the specified checkpoint file\n",
        "checkpoint = torch.load(path)\n",
        "\n",
        "# Load the saved state dictionary into the model\n",
        "my_model.load_state_dict(checkpoint)\n"
      ],
      "metadata": {
        "id": "7SGDUH22ZgBr",
        "colab": {
          "base_uri": "https://localhost:8080/"
        },
        "outputId": "c3241e3a-52f7-4bc7-be79-bda7ec0940cb"
      },
      "execution_count": 60,
      "outputs": [
        {
          "output_type": "execute_result",
          "data": {
            "text/plain": [
              "<All keys matched successfully>"
            ]
          },
          "metadata": {},
          "execution_count": 60
        }
      ]
    },
    {
      "cell_type": "markdown",
      "metadata": {
        "id": "c-Cj1f2Qb74K"
      },
      "source": [
        "# <Font color = 'indianred'>**Get Accuracy, Predictions**"
      ]
    },
    {
      "cell_type": "code",
      "source": [
        "def get_acc_pred(data_loader, model, device):\n",
        "    \"\"\"\n",
        "    Function to get predictions and accuracy for a given data using a trained model\n",
        "    Input: data iterator, model, device\n",
        "    Output: predictions and accuracy for the given dataset\n",
        "    \"\"\"\n",
        "    model = model.to(device)\n",
        "    # Set model to evaluation mode\n",
        "    model.eval()\n",
        "\n",
        "    # Create empty tensors to store predictions and actual labels\n",
        "    predictions = torch.Tensor().to(device)\n",
        "    y = torch.Tensor().to(device)\n",
        "\n",
        "    # Iterate over batches from data iterator\n",
        "    with torch.no_grad():\n",
        "        for inputs, targets in data_loader:\n",
        "            # Process the batch to get the loss, outputs, and correct predictions\n",
        "            outputs, _ = step(inputs, targets, model,\n",
        "                              device, loss_function=None, optimizer=None)\n",
        "\n",
        "            # Choose the label with maximum probability\n",
        "            _, predicted = torch.max(outputs.data, 1)\n",
        "\n",
        "            # Add the predicted labels and actual labels to their respective tensors\n",
        "            predictions = torch.cat((predictions, predicted))\n",
        "            y = torch.cat((y, targets.to(device)))\n",
        "\n",
        "    # Calculate accuracy by comparing the predicted and actual labels\n",
        "    accuracy = (predictions == y).float().mean()\n",
        "\n",
        "    # Return tuple containing predictions and accuracy\n",
        "    return predictions, accuracy"
      ],
      "metadata": {
        "id": "g8tO_MxLb0cP"
      },
      "execution_count": 61,
      "outputs": []
    },
    {
      "cell_type": "code",
      "execution_count": 62,
      "metadata": {
        "execution": {
          "iopub.execute_input": "2022-09-14T05:15:58.582919Z",
          "iopub.status.busy": "2022-09-14T05:15:58.582773Z",
          "iopub.status.idle": "2022-09-14T05:15:59.908270Z",
          "shell.execute_reply": "2022-09-14T05:15:59.907822Z",
          "shell.execute_reply.started": "2022-09-14T05:15:58.582906Z"
        },
        "id": "yw7GhoZuRdIO",
        "tags": []
      },
      "outputs": [],
      "source": [
        "# Get the prediction and accuracy\n",
        "predictions_test, acc_test = get_acc_pred(test_loader, my_model, device)\n",
        "predictions_train, acc_train = get_acc_pred(train_loader, my_model, device)\n",
        "predictions_valid, acc_valid = get_acc_pred(valid_loader, my_model, device)"
      ]
    },
    {
      "cell_type": "code",
      "execution_count": 63,
      "metadata": {
        "execution": {
          "iopub.execute_input": "2022-09-14T05:15:59.908911Z",
          "iopub.status.busy": "2022-09-14T05:15:59.908787Z",
          "iopub.status.idle": "2022-09-14T05:15:59.913493Z",
          "shell.execute_reply": "2022-09-14T05:15:59.912897Z",
          "shell.execute_reply.started": "2022-09-14T05:15:59.908899Z"
        },
        "id": "3v2z0oFcRjrF",
        "colab": {
          "base_uri": "https://localhost:8080/"
        },
        "outputId": "dd816217-1178-47c6-e010-550b12b3e6d7"
      },
      "outputs": [
        {
          "output_type": "stream",
          "name": "stdout",
          "text": [
            "Test accuracy tensor(86.7500, device='cuda:0')\n",
            "Train accuracy tensor(89.1708, device='cuda:0')\n",
            "Valid accuracy tensor(89.1708, device='cuda:0')\n"
          ]
        }
      ],
      "source": [
        "# Print Test Accuracy\n",
        "print('Test accuracy', acc_test * 100)\n",
        "print('Train accuracy', acc_train * 100)\n",
        "print('Valid accuracy', acc_valid * 100)"
      ]
    },
    {
      "cell_type": "markdown",
      "metadata": {
        "id": "caRp4G3ov5fp"
      },
      "source": [
        "# <Font color = 'indianred'>**Confusion Matrix for Test Data**"
      ]
    },
    {
      "cell_type": "markdown",
      "metadata": {
        "id": "GZf0pSyQV32m"
      },
      "source": [
        "Now, we will make some visualizations for the predictions that we obtained."
      ]
    },
    {
      "cell_type": "markdown",
      "metadata": {
        "id": "5sQH0GvxXnam"
      },
      "source": [
        "We will construct a `confusion matrix` which will help us to visualize the performance of our classification model on the test dataset as we know the true values for the test data."
      ]
    },
    {
      "cell_type": "code",
      "source": [
        "# Define the human-readable class labels corresponding to the numerical class indices\n",
        "classes = ['t-shirt', 'trouser', 'pullover', 'dress', 'coat',\n",
        "           'sandal', 'shirt', 'sneaker', 'bag', 'ankle boot']\n",
        "\n",
        "# Get an array containing actual labels from the testing dataset\n",
        "testing_labels = np.array(testset.targets)\n",
        "\n",
        "# Compute the confusion matrix between actual labels and predicted labels\n",
        "cm = confusion_matrix(testing_labels, predictions_test.cpu())\n",
        "\n",
        "# Create a ConfusionMatrixDisplay object for visualization with class labels\n",
        "disp = ConfusionMatrixDisplay(confusion_matrix=cm, display_labels=classes)\n"
      ],
      "metadata": {
        "id": "msBbb18vJi0I"
      },
      "execution_count": 64,
      "outputs": []
    },
    {
      "cell_type": "code",
      "source": [
        "# Create the confusion matrix plot\n",
        "ax = disp.plot().ax_\n",
        "\n",
        "# Rotate x-axis labels\n",
        "ax.set_xticklabels(ax.get_xticklabels(), rotation=90)\n",
        "\n",
        "# Access the Matplotlib figure from the Axes object and set its size\n",
        "\n",
        "# Get the current figure\n",
        "fig = plt.gcf()\n",
        "\n",
        "# Remove the last (existing) color bar\n",
        "plt.delaxes(fig.axes[-1])\n",
        "ax.figure.set_size_inches(8, 8)\n",
        "\n",
        "# Modify the colorbar size\n",
        "ax.figure.colorbar(ax.images[0], ax=ax, shrink=0.65)  # 'shrink' parameter adjusts the size\n",
        "\n",
        "plt.show()"
      ],
      "metadata": {
        "id": "idCv7462J7as",
        "colab": {
          "base_uri": "https://localhost:8080/",
          "height": 538
        },
        "outputId": "389fd22a-bfc0-48a3-e029-4fc2a4e79752"
      },
      "execution_count": 65,
      "outputs": [
        {
          "output_type": "display_data",
          "data": {
            "text/plain": [
              "<Figure size 800x800 with 2 Axes>"
            ],
            "image/png": "[encoded data removed]"
          },
          "metadata": {}
        }
      ]
    }
  ],
  "metadata": {
    "accelerator": "GPU",
    "colab": {
      "machine_shape": "hm",
      "provenance": [],
      "toc_visible": true,
      "include_colab_link": true
    },
    "gpuClass": "standard",
    "kernelspec": {
      "display_name": "Python 3 (ipykernel)",
      "language": "python",
      "name": "python3"
    },
    "language_info": {
      "codemirror_mode": {
        "name": "ipython",
        "version": 3
      },
      "file_extension": ".py",
      "mimetype": "text/x-python",
      "name": "python",
      "nbconvert_exporter": "python",
      "pygments_lexer": "ipython3",
      "version": "3.10.12"
    }
  },
  "nbformat": 4,
  "nbformat_minor": 0
}